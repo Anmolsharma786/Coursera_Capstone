{
    "cells": [
        {
            "cell_type": "code",
            "execution_count": 2,
            "metadata": {},
            "outputs": [
                {
                    "name": "stdout",
                    "output_type": "stream",
                    "text": "https://en.wikipedia.org/wiki/List_of_postal_codes_of_Canada:_M\n200\n{'Date': 'Mon, 30 Mar 2020 02:05:03 GMT', 'Content-Type': 'text/html; charset=UTF-8', 'Server': 'mw1321.eqiad.wmnet', 'X-Powered-By': 'PHP/7.2.26-1+0~20191218.33+debian9~1.gbpb5a340+wmf1', 'X-Content-Type-Options': 'nosniff', 'P3P': 'CP=\"See https://en.wikipedia.org/wiki/Special:CentralAutoLogin/P3P for more info.\"', 'Content-language': 'en', 'Vary': 'Accept-Encoding,Cookie,Authorization', 'Last-Modified': 'Mon, 30 Mar 2020 02:01:19 GMT', 'Backend-Timing': 'D=122199 t=1585533902960773', 'X-ATS-Timestamp': '1585534141', 'Content-Encoding': 'gzip', 'X-Varnish': '847908558 761488347', 'Age': '5225', 'X-Cache': 'cp1081 hit, cp1081 hit/13', 'X-Cache-Status': 'hit-front', 'Server-Timing': 'cache;desc=\"hit-front\"', 'Strict-Transport-Security': 'max-age=106384710; includeSubDomains; preload', 'Set-Cookie': 'WMF-Last-Access=30-Mar-2020;Path=/;HttpOnly;secure;Expires=Fri, 01 May 2020 00:00:00 GMT, WMF-Last-Access-Global=30-Mar-2020;Path=/;Domain=.wikipedia.org;HttpOnly;secure;Expires=Fri, 01 May 2020 00:00:00 GMT, GeoIP=US:::37.75:-97.82:v4; Path=/; secure; Domain=.wikipedia.org', 'X-Client-IP': '169.61.138.39', 'Cache-Control': 'private, s-maxage=0, max-age=0, must-revalidate', 'Accept-Ranges': 'bytes', 'Content-Length': '12843', 'Connection': 'keep-alive'}\n"
                }
            ],
            "source": "import pandas as pd\nimport requests\nurl = 'https://en.wikipedia.org/wiki/List_of_postal_codes_of_Canada:_M'\nresult = requests.get(url)\nprint(url)\nprint(result.status_code)\nprint(result.headers)"
        },
        {
            "cell_type": "markdown",
            "metadata": {},
            "source": "USING THE BEAUTIFULSOUP. WE WILL SAVE ALL THE HTML CONTENT IN result.content to soup VARIABLE ADN THEN WE WILL DO THE ASSIGNED TASKS "
        },
        {
            "cell_type": "code",
            "execution_count": 3,
            "metadata": {},
            "outputs": [],
            "source": "from bs4 import BeautifulSoup\nsoup = BeautifulSoup(result.content, 'html.parser')\ntable = soup.find('table')\ntrs = table.find_all('tr')\nrows = []\nfor tr in trs:\n    i = tr.find_all('td')\n    if i:\n        rows.append(i)\n        \nlst = []\nfor row in rows:\n    postalcode = row[0].text.rstrip()\n    borough = row[1].text.rstrip()\n    neighborhood = row[2].text.rstrip()\n    if borough != 'Not assigned':\n        if neighborhood == 'Not assigned':\n            neighborhood = borough\n        lst.append([postalcode, borough, neighborhood])\n\n# lst"
        },
        {
            "cell_type": "code",
            "execution_count": 4,
            "metadata": {},
            "outputs": [
                {
                    "name": "stdout",
                    "output_type": "stream",
                    "text": "(103, 3)\n"
                }
            ],
            "source": "cols = ['PostalCode', 'Borough', 'Neighborhood']\ndf = pd.DataFrame(lst, columns=cols)\nprint(df.shape)"
        },
        {
            "cell_type": "code",
            "execution_count": 6,
            "metadata": {},
            "outputs": [],
            "source": "f = df.groupby('PostalCode').agg(\n    {\n        'Borough':'first', \n        'Neighborhood': ', '.join,}\n    ).reset_index()"
        },
        {
            "cell_type": "code",
            "execution_count": 7,
            "metadata": {},
            "outputs": [
                {
                    "data": {
                        "text/plain": "(103, 3)"
                    },
                    "execution_count": 7,
                    "metadata": {},
                    "output_type": "execute_result"
                }
            ],
            "source": "df.shape"
        },
        {
            "cell_type": "code",
            "execution_count": 8,
            "metadata": {},
            "outputs": [
                {
                    "name": "stdout",
                    "output_type": "stream",
                    "text": "--2020-03-30 03:57:12--  http://cocl.us/Geospatial_data/\nResolving cocl.us (cocl.us)... 169.48.113.194, 158.85.108.83, 158.85.108.86\nConnecting to cocl.us (cocl.us)|169.48.113.194|:80... connected.\nHTTP request sent, awaiting response... 301 Moved Permanently\nLocation: https://cocl.us/Geospatial_data/ [following]\n--2020-03-30 03:57:13--  https://cocl.us/Geospatial_data/\nConnecting to cocl.us (cocl.us)|169.48.113.194|:443... connected.\nHTTP request sent, awaiting response... 301 Moved Permanently\nLocation: https://ibm.box.com/shared/static/9afzr83pps4pwf2smjjcf1y5mvgb18rr.csv [following]\n--2020-03-30 03:57:14--  https://ibm.box.com/shared/static/9afzr83pps4pwf2smjjcf1y5mvgb18rr.csv\nResolving ibm.box.com (ibm.box.com)... 107.152.27.197, 107.152.26.197\nConnecting to ibm.box.com (ibm.box.com)|107.152.27.197|:443... connected.\nHTTP request sent, awaiting response... 301 Moved Permanently\nLocation: /public/static/9afzr83pps4pwf2smjjcf1y5mvgb18rr.csv [following]\n--2020-03-30 03:57:14--  https://ibm.box.com/public/static/9afzr83pps4pwf2smjjcf1y5mvgb18rr.csv\nReusing existing connection to ibm.box.com:443.\nHTTP request sent, awaiting response... 301 Moved Permanently\nLocation: https://ibm.ent.box.com/public/static/9afzr83pps4pwf2smjjcf1y5mvgb18rr.csv [following]\n--2020-03-30 03:57:14--  https://ibm.ent.box.com/public/static/9afzr83pps4pwf2smjjcf1y5mvgb18rr.csv\nResolving ibm.ent.box.com (ibm.ent.box.com)... 107.152.26.211, 107.152.27.211\nConnecting to ibm.ent.box.com (ibm.ent.box.com)|107.152.26.211|:443... connected.\nHTTP request sent, awaiting response... 302 Found\nLocation: https://public.boxcloud.com/d/1/b1!lT1c0UHnJvDpM5hzBtyFXuNUwsuDkjz7FNy3oIlR028sNCnCZxzZpe-hiYgkHLPv8qbGviF_p8_fJEt8tG9IAlxBGZZa8X1S4o-WWJEfXUM8lp9Z_yBPPnhxZXaHlaAGZgCIfU9GjeBl8vtf71p26cPcSVtddbcupti192ZwjA5Jm1t_VK6umBCY31EYPTPTDH_WzzKoWCzrWbUl3_hCdmV4WTIK4Od7xuoE223EqcXP9ix9hXP676fct2RRbc8M0awngImSi73Zn3GSJb8ijaI9fdyeku1yE_1sQIrjffkzagzD2R5DQmqk_II-xnoh6GrjSVJVgO_nl3clSgGJ9CVMgUED1nIhDLpHLy12TqaCNo6VJJUuVsLS5uIrSh-98rm8h3oAr-ETbqPBPcqXsmHFsUAbIPuqerQrxfDUZsat8Dg66aP8Nu-Ymey5l6bP75lK_VvdpwpoRLZhGLdKdFv2HrXt2Xl3Tytt8-SHWtLzKuJIQ07-AnmNDGT_e6P1Lf5n7GVwaC61Z7p5XC8OBfG7_EZOLkZbio6cFjRhw6bJhnbwhk1OijrDL71ZduJlHDLV4Az5uJkBgfSeku5I4dA1EAgPgNak0bMp6y99RA5Gr_-_00GtX2o30Yj-pK_ArBrigqRGPrNdYd3t2GV1g_37ChC3el9So6GAHDtacoEpn0zEf4O2PJ_tN3tjlb2C6QbCbGe851kiUBBTBwB6LE_C9R9CS4R4jQ4-DeeFfVJSc52_GdweaTTI6_eunQhbWhDXVh6PHwl8a-oxRFrYKKb5x--uUNETwSEqKC1PGv9fMBMQKwl7RY9SNnwnUvs8bL5zNuefFtRVustUasuOqH4fQloui8zFm1tnEj3BNxbV8A99zu_InGQrIhD-svYn4cJ6E6xCTqFidk3y-6uqziq4wYo_RZbcAHbPp9zJO1oi0ISNrSsylnLKxaNdmyGZU364bXSILUctPATXnao2cz3APquBxaM9MIskev1OHVxBEEE02vulxpNCGZqiv-yVyfEHxy0qcXVxhM2SfqmNjQDO0sV2GVRBKxj8wuZaxfrQsDAG71Q_WcVfhsWc5n7_GBzQPMxuwY1OcyhrwDo6s4odBVjAU5IIgWDimrlj8IGTFp8JI5njSRkV0-UAT5OVILt1fGtZr8o3na8NndKS18vyqmKZPdyTE7SVpmlbybAk3J43-8iFVhSs2afCui8Vfs7F3vxqNpZ08cVUBfgCY7klsY7hcnGF2CZgqVEUvUhOQjkWM8jT4glkoW3iM1c0on__uZreimPTI52Rw8ksjwF3qRnSDOt8N-YwTeTXeAVwX2yxFSITGu2ooae6QEfCLfa317iCnDOytmoKdjpOpdGegV1fhqvhliQyadCu7g0Oxk-l1ZilgGWUTMnwBRl1yb8NZ6RQRHO51qkQBgntjz0VpYodRMKkUFpsHgpgWuUE/download [following]\n--2020-03-30 03:57:15--  https://public.boxcloud.com/d/1/b1!lT1c0UHnJvDpM5hzBtyFXuNUwsuDkjz7FNy3oIlR028sNCnCZxzZpe-hiYgkHLPv8qbGviF_p8_fJEt8tG9IAlxBGZZa8X1S4o-WWJEfXUM8lp9Z_yBPPnhxZXaHlaAGZgCIfU9GjeBl8vtf71p26cPcSVtddbcupti192ZwjA5Jm1t_VK6umBCY31EYPTPTDH_WzzKoWCzrWbUl3_hCdmV4WTIK4Od7xuoE223EqcXP9ix9hXP676fct2RRbc8M0awngImSi73Zn3GSJb8ijaI9fdyeku1yE_1sQIrjffkzagzD2R5DQmqk_II-xnoh6GrjSVJVgO_nl3clSgGJ9CVMgUED1nIhDLpHLy12TqaCNo6VJJUuVsLS5uIrSh-98rm8h3oAr-ETbqPBPcqXsmHFsUAbIPuqerQrxfDUZsat8Dg66aP8Nu-Ymey5l6bP75lK_VvdpwpoRLZhGLdKdFv2HrXt2Xl3Tytt8-SHWtLzKuJIQ07-AnmNDGT_e6P1Lf5n7GVwaC61Z7p5XC8OBfG7_EZOLkZbio6cFjRhw6bJhnbwhk1OijrDL71ZduJlHDLV4Az5uJkBgfSeku5I4dA1EAgPgNak0bMp6y99RA5Gr_-_00GtX2o30Yj-pK_ArBrigqRGPrNdYd3t2GV1g_37ChC3el9So6GAHDtacoEpn0zEf4O2PJ_tN3tjlb2C6QbCbGe851kiUBBTBwB6LE_C9R9CS4R4jQ4-DeeFfVJSc52_GdweaTTI6_eunQhbWhDXVh6PHwl8a-oxRFrYKKb5x--uUNETwSEqKC1PGv9fMBMQKwl7RY9SNnwnUvs8bL5zNuefFtRVustUasuOqH4fQloui8zFm1tnEj3BNxbV8A99zu_InGQrIhD-svYn4cJ6E6xCTqFidk3y-6uqziq4wYo_RZbcAHbPp9zJO1oi0ISNrSsylnLKxaNdmyGZU364bXSILUctPATXnao2cz3APquBxaM9MIskev1OHVxBEEE02vulxpNCGZqiv-yVyfEHxy0qcXVxhM2SfqmNjQDO0sV2GVRBKxj8wuZaxfrQsDAG71Q_WcVfhsWc5n7_GBzQPMxuwY1OcyhrwDo6s4odBVjAU5IIgWDimrlj8IGTFp8JI5njSRkV0-UAT5OVILt1fGtZr8o3na8NndKS18vyqmKZPdyTE7SVpmlbybAk3J43-8iFVhSs2afCui8Vfs7F3vxqNpZ08cVUBfgCY7klsY7hcnGF2CZgqVEUvUhOQjkWM8jT4glkoW3iM1c0on__uZreimPTI52Rw8ksjwF3qRnSDOt8N-YwTeTXeAVwX2yxFSITGu2ooae6QEfCLfa317iCnDOytmoKdjpOpdGegV1fhqvhliQyadCu7g0Oxk-l1ZilgGWUTMnwBRl1yb8NZ6RQRHO51qkQBgntjz0VpYodRMKkUFpsHgpgWuUE/download\nResolving public.boxcloud.com (public.boxcloud.com)... 107.152.26.200\nConnecting to public.boxcloud.com (public.boxcloud.com)|107.152.26.200|:443... connected.\nHTTP request sent, awaiting response... 200 OK\nLength: 2891 (2.8K) [text/csv]\nSaving to: \u2018GeoCord.csv\u2019\n\n100%[======================================>] 2,891       --.-K/s   in 0s      \n\n2020-03-30 03:57:16 (235 MB/s) - \u2018GeoCord.csv\u2019 saved [2891/2891]\n\n"
                }
            ],
            "source": "!wget -O GeoCord.csv http://cocl.us/Geospatial_data/"
        },
        {
            "cell_type": "code",
            "execution_count": 9,
            "metadata": {},
            "outputs": [
                {
                    "data": {
                        "text/html": "<div>\n<style scoped>\n    .dataframe tbody tr th:only-of-type {\n        vertical-align: middle;\n    }\n\n    .dataframe tbody tr th {\n        vertical-align: top;\n    }\n\n    .dataframe thead th {\n        text-align: right;\n    }\n</style>\n<table border=\"1\" class=\"dataframe\">\n  <thead>\n    <tr style=\"text-align: right;\">\n      <th></th>\n      <th>Postal Code</th>\n      <th>Latitude</th>\n      <th>Longitude</th>\n    </tr>\n  </thead>\n  <tbody>\n    <tr>\n      <th>0</th>\n      <td>M1B</td>\n      <td>43.806686</td>\n      <td>-79.194353</td>\n    </tr>\n    <tr>\n      <th>1</th>\n      <td>M1C</td>\n      <td>43.784535</td>\n      <td>-79.160497</td>\n    </tr>\n    <tr>\n      <th>2</th>\n      <td>M1E</td>\n      <td>43.763573</td>\n      <td>-79.188711</td>\n    </tr>\n    <tr>\n      <th>3</th>\n      <td>M1G</td>\n      <td>43.770992</td>\n      <td>-79.216917</td>\n    </tr>\n    <tr>\n      <th>4</th>\n      <td>M1H</td>\n      <td>43.773136</td>\n      <td>-79.239476</td>\n    </tr>\n  </tbody>\n</table>\n</div>",
                        "text/plain": "  Postal Code   Latitude  Longitude\n0         M1B  43.806686 -79.194353\n1         M1C  43.784535 -79.160497\n2         M1E  43.763573 -79.188711\n3         M1G  43.770992 -79.216917\n4         M1H  43.773136 -79.239476"
                    },
                    "execution_count": 9,
                    "metadata": {},
                    "output_type": "execute_result"
                }
            ],
            "source": "df_cordinates = pd.read_csv('GeoCord.csv') # Read the csv data\ndf_cordinates.head()"
        },
        {
            "cell_type": "code",
            "execution_count": 12,
            "metadata": {},
            "outputs": [
                {
                    "ename": "NameError",
                    "evalue": "name 'df_cord' is not defined",
                    "output_type": "error",
                    "traceback": [
                        "\u001b[0;31m---------------------------------------------------------------------------\u001b[0m",
                        "\u001b[0;31mNameError\u001b[0m                                 Traceback (most recent call last)",
                        "\u001b[0;32m<ipython-input-12-bc846982fb96>\u001b[0m in \u001b[0;36m<module>\u001b[0;34m\u001b[0m\n\u001b[1;32m      5\u001b[0m \u001b[0;31m# For each postcode in df, find corresponding coordinates in df_cord and assign it to df\u001b[0m\u001b[0;34m\u001b[0m\u001b[0;34m\u001b[0m\u001b[0;34m\u001b[0m\u001b[0m\n\u001b[1;32m      6\u001b[0m \u001b[0;32mfor\u001b[0m \u001b[0midx\u001b[0m \u001b[0;32min\u001b[0m \u001b[0mdf\u001b[0m\u001b[0;34m.\u001b[0m\u001b[0mindex\u001b[0m\u001b[0;34m:\u001b[0m\u001b[0;34m\u001b[0m\u001b[0;34m\u001b[0m\u001b[0m\n\u001b[0;32m----> 7\u001b[0;31m     \u001b[0mcordinates_idx\u001b[0m \u001b[0;34m=\u001b[0m \u001b[0mdf_cord\u001b[0m\u001b[0;34m[\u001b[0m\u001b[0;34m'Postal Code'\u001b[0m\u001b[0;34m]\u001b[0m \u001b[0;34m==\u001b[0m \u001b[0mdf_assigned\u001b[0m\u001b[0;34m.\u001b[0m\u001b[0mloc\u001b[0m\u001b[0;34m[\u001b[0m\u001b[0midx\u001b[0m\u001b[0;34m,\u001b[0m \u001b[0;34m'Postcode'\u001b[0m\u001b[0;34m]\u001b[0m\u001b[0;34m\u001b[0m\u001b[0;34m\u001b[0m\u001b[0m\n\u001b[0m\u001b[1;32m      8\u001b[0m     \u001b[0mdf\u001b[0m\u001b[0;34m.\u001b[0m\u001b[0mat\u001b[0m\u001b[0;34m[\u001b[0m\u001b[0midx\u001b[0m\u001b[0;34m,\u001b[0m \u001b[0;34m'Latitude'\u001b[0m\u001b[0;34m]\u001b[0m \u001b[0;34m=\u001b[0m \u001b[0mdf_cordinates\u001b[0m\u001b[0;34m.\u001b[0m\u001b[0mloc\u001b[0m\u001b[0;34m[\u001b[0m\u001b[0mcordinates_idx\u001b[0m\u001b[0;34m,\u001b[0m \u001b[0;34m'Latitude'\u001b[0m\u001b[0;34m]\u001b[0m\u001b[0;34m.\u001b[0m\u001b[0mvalues\u001b[0m\u001b[0;34m\u001b[0m\u001b[0;34m\u001b[0m\u001b[0m\n\u001b[1;32m      9\u001b[0m     \u001b[0mdf\u001b[0m\u001b[0;34m.\u001b[0m\u001b[0mat\u001b[0m\u001b[0;34m[\u001b[0m\u001b[0midx\u001b[0m\u001b[0;34m,\u001b[0m \u001b[0;34m'Longitude'\u001b[0m\u001b[0;34m]\u001b[0m \u001b[0;34m=\u001b[0m \u001b[0mdf_cordinates\u001b[0m\u001b[0;34m.\u001b[0m\u001b[0mloc\u001b[0m\u001b[0;34m[\u001b[0m\u001b[0mcordinates_idx\u001b[0m\u001b[0;34m,\u001b[0m \u001b[0;34m'Longitude'\u001b[0m\u001b[0;34m]\u001b[0m\u001b[0;34m.\u001b[0m\u001b[0mvalues\u001b[0m\u001b[0;34m\u001b[0m\u001b[0;34m\u001b[0m\u001b[0m\n",
                        "\u001b[0;31mNameError\u001b[0m: name 'df_cord' is not defined"
                    ]
                }
            ],
            "source": "import numpy as np\ndf['Latitude'] = np.nan\ndf['Longitude'] = np.nan\n\n# For each postcode in df, find corresponding coordinates in df_cord and assign it to df\nfor idx in df.index:\n    cordinates_idx = df_cord['Postal Code'] == df_assigned.loc[idx, 'Postcode']\n    df.at[idx, 'Latitude'] = df_cordinates.loc[cordinates_idx, 'Latitude'].values\n    df.at[idx, 'Longitude'] = df_cordinates.loc[cordinates_idx, 'Longitude'].values\n\n# Display the results\ndf_ass.head(20)"
        },
        {
            "cell_type": "code",
            "execution_count": null,
            "metadata": {},
            "outputs": [],
            "source": ""
        },
        {
            "cell_type": "code",
            "execution_count": null,
            "metadata": {},
            "outputs": [],
            "source": ""
        }
    ],
    "metadata": {
        "kernelspec": {
            "display_name": "Python 3.6",
            "language": "python",
            "name": "python3"
        },
        "language_info": {
            "codemirror_mode": {
                "name": "ipython",
                "version": 3
            },
            "file_extension": ".py",
            "mimetype": "text/x-python",
            "name": "python",
            "nbconvert_exporter": "python",
            "pygments_lexer": "ipython3",
            "version": "3.6.9"
        }
    },
    "nbformat": 4,
    "nbformat_minor": 1
}